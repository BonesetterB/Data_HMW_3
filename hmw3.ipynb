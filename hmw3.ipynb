{
  "nbformat": 4,
  "nbformat_minor": 0,
  "metadata": {
    "colab": {
      "provenance": []
    },
    "kernelspec": {
      "name": "python3",
      "display_name": "Python 3"
    },
    "language_info": {
      "name": "python"
    }
  },
  "cells": [
    {
      "cell_type": "code",
      "execution_count": null,
      "metadata": {
        "id": "putjx5FFvgPL"
      },
      "outputs": [],
      "source": [
        "import numpy as np\n",
        "from sklearn.linear_model import LinearRegression\n",
        "from random import uniform, sample\n",
        "import pandas as pd"
      ]
    },
    {
      "cell_type": "code",
      "source": [
        "X = np.array([\n",
        "    [2, 2],\n",
        "    [1, 1],\n",
        "    [3, 3],\n",
        "    [1, 1],\n",
        "    [5, 5],\n",
        "    [1, 1]\n",
        "])\n",
        "\n",
        "y = np.dot(X, np.array([9, 9])) + 2\n",
        "\n",
        "regressor = LinearRegression().fit(X, y)\n",
        "\n",
        "new_data = np.array([[5, 10]])\n",
        "\n",
        "prediction = regressor.predict(new_data)"
      ],
      "metadata": {
        "id": "Kb3ptBQAwAkU"
      },
      "execution_count": null,
      "outputs": []
    },
    {
      "cell_type": "code",
      "source": [
        "def mean_squared_error(y_true, y_pred):\n",
        "    m = len(y_true)\n",
        "    squared_errors = (y_pred - y_true) ** 2\n",
        "    return (1 / (2 * m)) * np.sum(squared_errors)\n",
        "\n",
        "loss = mean_squared_error(y, regressor.predict(X))\n",
        "\n",
        "print(\"Предбачення:\", prediction)\n",
        "print(\"Функція втрат (MSE):\", loss)"
      ],
      "metadata": {
        "colab": {
          "base_uri": "https://localhost:8080/"
        },
        "id": "iDnne-DqwDcL",
        "outputId": "fd0d520d-fe99-4768-a8c3-e9abaf37b4af"
      },
      "execution_count": null,
      "outputs": [
        {
          "output_type": "stream",
          "name": "stdout",
          "text": [
            "Предбачення: [137.]\n",
            "Функція втрат (MSE): 5.469435609532348e-29\n"
          ]
        }
      ]
    },
    {
      "cell_type": "code",
      "source": [
        "def de(w):\n",
        "    return 2*w**3 - 5*w + 10\n",
        "\n",
        "def gd(w_0, iterations, gamma):\n",
        "    w_i = w_0\n",
        "    for i in range(iterations):\n",
        "        w_i = w_i - gamma*de(w_i)\n",
        "        print('Iteration {} optimal w {}'.format(i, w_i))\n",
        "    return w_i\n",
        "\n"
      ],
      "metadata": {
        "id": "uHWlVydfZW2V"
      },
      "execution_count": null,
      "outputs": []
    },
    {
      "cell_type": "code",
      "source": [
        "gd(1, 10, 0.002)"
      ],
      "metadata": {
        "colab": {
          "base_uri": "https://localhost:8080/"
        },
        "id": "2E7ymhQWiQTF",
        "outputId": "949dabe2-c5ea-4fdf-c346-87313c8a36b6"
      },
      "execution_count": null,
      "outputs": [
        {
          "output_type": "stream",
          "name": "stdout",
          "text": [
            "Iteration 0 optimal w 0.986\n",
            "Iteration 1 optimal w 0.972025658976\n",
            "Iteration 2 optimal w 0.9580723044598007\n",
            "Iteration 3 optimal w 0.9441353594951339\n",
            "Iteration 4 optimal w 0.930210335861893\n",
            "Iteration 5 optimal w 0.9162928276928998\n",
            "Iteration 6 optimal w 0.9023785054571933\n",
            "Iteration 7 optimal w 0.8884631102861851\n",
            "Iteration 8 optimal w 0.8745424486211951\n",
            "Iteration 9 optimal w 0.8606123871628737\n"
          ]
        },
        {
          "output_type": "execute_result",
          "data": {
            "text/plain": [
              "0.8606123871628737"
            ]
          },
          "metadata": {},
          "execution_count": 6
        }
      ]
    },
    {
      "cell_type": "code",
      "source": [
        "from google.colab import drive\n",
        "drive.mount(\"/drive\",force_remount=True)"
      ],
      "metadata": {
        "colab": {
          "base_uri": "https://localhost:8080/"
        },
        "id": "wmhQzW2zia9c",
        "outputId": "19fa856b-2df4-4aa6-bc23-350253e31888"
      },
      "execution_count": null,
      "outputs": [
        {
          "output_type": "stream",
          "name": "stdout",
          "text": [
            "Mounted at /drive\n"
          ]
        }
      ]
    },
    {
      "cell_type": "code",
      "source": [
        "table=pd.read_csv(\"/drive/My Drive/Housing.csv\")\n",
        "print(table.head())"
      ],
      "metadata": {
        "colab": {
          "base_uri": "https://localhost:8080/"
        },
        "id": "GiD_UUrfjbOp",
        "outputId": "9bd1faf6-185e-4bc2-a9ea-9666b223ea58"
      },
      "execution_count": null,
      "outputs": [
        {
          "output_type": "stream",
          "name": "stdout",
          "text": [
            "      price  area  bedrooms  bathrooms  stories mainroad guestroom basement  \\\n",
            "0  13300000  7420         4          2        3      yes        no       no   \n",
            "1  12250000  8960         4          4        4      yes        no       no   \n",
            "2  12250000  9960         3          2        2      yes        no      yes   \n",
            "3  12215000  7500         4          2        2      yes        no      yes   \n",
            "4  11410000  7420         4          1        2      yes       yes      yes   \n",
            "\n",
            "  hotwaterheating airconditioning  parking prefarea furnishingstatus  \n",
            "0              no             yes        2      yes        furnished  \n",
            "1              no             yes        3       no        furnished  \n",
            "2              no              no        2      yes   semi-furnished  \n",
            "3              no             yes        3      yes        furnished  \n",
            "4              no             yes        2       no        furnished  \n"
          ]
        }
      ]
    },
    {
      "cell_type": "code",
      "source": [
        "data_x = np.array([\n",
        "    table['area'],\n",
        "    table['bathrooms'],\n",
        "    table['bedrooms']\n",
        "]).T\n",
        "data_y=table['price']\n",
        "regressor = LinearRegression().fit(data_x, data_y)"
      ],
      "metadata": {
        "id": "dAvOfbJxlg0W"
      },
      "execution_count": null,
      "outputs": []
    },
    {
      "cell_type": "code",
      "source": [
        "x_test=np.array([5000,1,3])\n",
        "y_pric=5740000\n",
        "\n",
        "y_pred = regressor.predict(x_test.reshape(1, -1))\n",
        "print(y_pred)\n",
        "mse_new = mean_squared_error([y_pric], y_pred)\n",
        "print(\"Середньоквадратична помилка для нового прикладу (MSE):\", mse_new)\n",
        "\n",
        "\n",
        "x_test=np.array([2787,2,4])\n",
        "y_pric=2380000\n",
        "\n",
        "y_pred = regressor.predict(x_test.reshape(1, -1))\n",
        "print(y_pred)\n",
        "mse_new = mean_squared_error([y_pric], y_pred)\n",
        "print(\"Середньоквадратична помилка для нового прикладу (MSE):\", mse_new)\n",
        "\n",
        "\n",
        "mse = mean_squared_error(data_y, regressor.predict(data_x))\n",
        "print(\"Середньоквадратична помилка (MSE):\", mse)\n",
        "\n",
        "optimal_w = regressor.coef_\n",
        "print(\"Оптимальні параметри моделі (w):\", optimal_w)\n"
      ],
      "metadata": {
        "colab": {
          "base_uri": "https://localhost:8080/"
        },
        "id": "AorOczklrLCb",
        "outputId": "a69c6812-6ba3-4ab5-b01d-d92f725e2ab5"
      },
      "execution_count": null,
      "outputs": [
        {
          "output_type": "stream",
          "name": "stdout",
          "text": [
            "[4327151.75939143]\n",
            "Середньоквадратична помилка для нового прикладу (MSE): 998070075495.3688\n",
            "[5281819.31726777]\n",
            "Середньоквадратична помилка для нового прикладу (MSE): 4210277675034.196\n",
            "Середньоквадратична помилка (MSE): 895585024988.6595\n",
            "Оптимальні параметри моделі (w): [3.78762754e+02 1.38604950e+06 4.06820034e+05]\n"
          ]
        }
      ]
    },
    {
      "cell_type": "code",
      "source": [
        "X = np.column_stack((data_x, np.ones(data_x.shape[0])))\n",
        "w = np.linalg.inv(X.T @ X) @ X.T @ data_y\n",
        "\n",
        "optimal_w = w[:-1]\n",
        "intercept = w[-1]\n",
        "\n",
        "print(\"Оптимальні параметри моделі (w):\", optimal_w)\n",
        "print(\"Вільний член (пересічення):\", intercept)"
      ],
      "metadata": {
        "colab": {
          "base_uri": "https://localhost:8080/"
        },
        "id": "_l6bTr0rxPr4",
        "outputId": "791fbc05-4dc1-404a-a5bd-acca030ed03c"
      },
      "execution_count": null,
      "outputs": [
        {
          "output_type": "stream",
          "name": "stdout",
          "text": [
            "Оптимальні параметри моделі (w): [3.78762754e+02 1.38604950e+06 4.06820034e+05]\n",
            "Вільний член (пересічення): -173171.6076326309\n"
          ]
        }
      ]
    },
    {
      "cell_type": "code",
      "source": [
        "predicted_price = np.dot(optimal_w, x_test) + intercept\n",
        "\n",
        "print(\"Прогнозована ціна на будинок:\", predicted_price)\n",
        "\n",
        "x_test=np.array([5000,1,3])\n",
        "predicted_price = np.dot(optimal_w, x_test) + intercept\n",
        "\n",
        "print(\"Прогнозована ціна на будинок:\", predicted_price)"
      ],
      "metadata": {
        "colab": {
          "base_uri": "https://localhost:8080/"
        },
        "id": "rafDA92K04Xj",
        "outputId": "92a17fda-432c-4fff-cb0e-49023c38b2ba"
      },
      "execution_count": null,
      "outputs": [
        {
          "output_type": "stream",
          "name": "stdout",
          "text": [
            "Прогнозована ціна на будинок: 5281819.317267778\n",
            "Прогнозована ціна на будинок: 4327151.759391435\n"
          ]
        }
      ]
    },
    {
      "cell_type": "markdown",
      "source": [
        "Тобто лінійна регреія  має тіж самі параметри що і при аналітичним методом, але на основі трьох параметрів із 13 неможливо отримати ідеально точний предікт ціни"
      ],
      "metadata": {
        "id": "n_LyI0QO5yXN"
      }
    }
  ]
}