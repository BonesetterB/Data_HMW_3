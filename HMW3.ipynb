{
  "nbformat": 4,
  "nbformat_minor": 0,
  "metadata": {
    "colab": {
      "provenance": [],
      "authorship_tag": "ABX9TyOtpHWq0Z2mN2uc/tOkPnce",
      "include_colab_link": true
    },
    "kernelspec": {
      "name": "python3",
      "display_name": "Python 3"
    },
    "language_info": {
      "name": "python"
    }
  },
  "cells": [
    {
      "cell_type": "markdown",
      "metadata": {
        "id": "view-in-github",
        "colab_type": "text"
      },
      "source": [
        "<a href=\"https://colab.research.google.com/github/BonesetterB/Data_HMW_3/blob/main/HMW3.ipynb\" target=\"_parent\"><img src=\"https://colab.research.google.com/assets/colab-badge.svg\" alt=\"Open In Colab\"/></a>"
      ]
    },
    {
      "cell_type": "code",
      "execution_count": 1,
      "metadata": {
        "id": "putjx5FFvgPL"
      },
      "outputs": [],
      "source": [
        "import numpy as np\n",
        "from sklearn.linear_model import LinearRegression\n",
        "from random import uniform, sample\n",
        "import pandas as pd"
      ]
    },
    {
      "cell_type": "code",
      "source": [
        "def regres(X, w):\n",
        "    return np.dot(X, w)"
      ],
      "metadata": {
        "id": "Kb3ptBQAwAkU"
      },
      "execution_count": 2,
      "outputs": []
    },
    {
      "cell_type": "code",
      "source": [
        "def loss_function(X, y, w):\n",
        "    return np.square(regres(X, w) - y).sum() / (2 * len(X))"
      ],
      "metadata": {
        "id": "iDnne-DqwDcL"
      },
      "execution_count": 3,
      "outputs": []
    },
    {
      "cell_type": "code",
      "source": [
        "def gradient_step(X, y, w, learning_rate):\n",
        "    m = len(y)\n",
        "    grad = (X.T @ (regres(X, w) - y)) / m\n",
        "    w -= learning_rate * grad\n",
        "    return w\n"
      ],
      "metadata": {
        "id": "uHWlVydfZW2V"
      },
      "execution_count": 11,
      "outputs": []
    },
    {
      "cell_type": "code",
      "source": [
        "def gradient(X, y, learning_rate, num_iter, eps):\n",
        "    ones = np.ones((X.shape[0], 1))\n",
        "    X = np.hstack((ones, X))\n",
        "\n",
        "    w = np.zeros(X.shape[1])\n",
        "\n",
        "    loss = loss_function(X, y, w)\n",
        "    loss_history = [loss]\n",
        "\n",
        "    for _ in range(num_iter):\n",
        "        w = gradient_step(X, y, w, learning_rate)\n",
        "\n",
        "        loss = loss_function(X, y, w)\n",
        "        if abs(loss - loss_history[-1]) < eps:\n",
        "            loss_history.append(loss)\n",
        "            break\n",
        "\n",
        "        loss_history.append(loss)\n",
        "\n",
        "    return w, loss_history"
      ],
      "metadata": {
        "id": "2E7ymhQWiQTF"
      },
      "execution_count": 6,
      "outputs": []
    },
    {
      "cell_type": "code",
      "source": [
        "from google.colab import drive\n",
        "drive.mount(\"/drive\",force_remount=True)"
      ],
      "metadata": {
        "colab": {
          "base_uri": "https://localhost:8080/"
        },
        "id": "wmhQzW2zia9c",
        "outputId": "11990e45-78af-44ef-bf42-4edcb217f772"
      },
      "execution_count": 7,
      "outputs": [
        {
          "output_type": "stream",
          "name": "stdout",
          "text": [
            "Mounted at /drive\n"
          ]
        }
      ]
    },
    {
      "cell_type": "code",
      "source": [
        "table=pd.read_csv(\"/drive/My Drive/Housing.csv\")\n",
        "print(table.head())"
      ],
      "metadata": {
        "colab": {
          "base_uri": "https://localhost:8080/"
        },
        "id": "GiD_UUrfjbOp",
        "outputId": "6e042618-1f7b-4d2a-f7d7-1e29bb22bf5a"
      },
      "execution_count": 8,
      "outputs": [
        {
          "output_type": "stream",
          "name": "stdout",
          "text": [
            "      price  area  bedrooms  bathrooms  stories mainroad guestroom basement  \\\n",
            "0  13300000  7420         4          2        3      yes        no       no   \n",
            "1  12250000  8960         4          4        4      yes        no       no   \n",
            "2  12250000  9960         3          2        2      yes        no      yes   \n",
            "3  12215000  7500         4          2        2      yes        no      yes   \n",
            "4  11410000  7420         4          1        2      yes       yes      yes   \n",
            "\n",
            "  hotwaterheating airconditioning  parking prefarea furnishingstatus  \n",
            "0              no             yes        2      yes        furnished  \n",
            "1              no             yes        3       no        furnished  \n",
            "2              no              no        2      yes   semi-furnished  \n",
            "3              no             yes        3      yes        furnished  \n",
            "4              no             yes        2       no        furnished  \n"
          ]
        }
      ]
    },
    {
      "cell_type": "code",
      "source": [
        "norm = table.copy()\n",
        "columns = ['price', 'area', 'bedrooms', 'bathrooms']\n",
        "for column in columns[1:]:\n",
        "    norm[column] = (table[column] - table[column].mean()) / table[column].std()\n",
        "\n",
        "\n",
        "X = norm[['area', 'bedrooms', 'bathrooms']].values\n",
        "y = norm['price'].values\n",
        "\n",
        "\n",
        "learning_rate = 0.01\n",
        "num_iter = 1000\n",
        "eps = 1e-12\n",
        "\n",
        "\n",
        "w_gradient, loss_history = gradient(X, y, learning_rate, num_iter, eps)\n",
        "print('Gradient Descent - w:', w_gradient)\n",
        "\n",
        "\n",
        "ones = np.ones((X.shape[0], 1))\n",
        "X = np.hstack((ones, X))\n",
        "w_analytical = np.linalg.pinv(X.T @ X) @ X.T @ y\n",
        "print('Analytical Solution - Optimal w:', w_analytical)"
      ],
      "metadata": {
        "id": "dAvOfbJxlg0W",
        "colab": {
          "base_uri": "https://localhost:8080/"
        },
        "outputId": "d236bb12-b104-4d3c-bcb2-fe1a7e85f109"
      },
      "execution_count": 42,
      "outputs": [
        {
          "output_type": "stream",
          "name": "stdout",
          "text": [
            "Gradient Descent - w: [4766523.46205873  821953.24685936  300575.90579754  696151.64754557]\n",
            "Analytical Solution - Optimal w: [4766729.24770642  821968.58935343  300259.16468032  696447.75898579]\n"
          ]
        }
      ]
    }
  ]
}